{
  "nbformat": 4,
  "nbformat_minor": 0,
  "metadata": {
    "colab": {
      "provenance": [],
      "authorship_tag": "ABX9TyOKs2uUPDkdDxIT3+ZIZKfV",
      "include_colab_link": true
    },
    "kernelspec": {
      "name": "python3",
      "display_name": "Python 3"
    },
    "language_info": {
      "name": "python"
    }
  },
  "cells": [
    {
      "cell_type": "markdown",
      "metadata": {
        "id": "view-in-github",
        "colab_type": "text"
      },
      "source": [
        "<a href=\"https://colab.research.google.com/github/DKZakeerhussain/DSTT_Assignments/blob/main/assignment_1.ipynb\" target=\"_parent\"><img src=\"https://colab.research.google.com/assets/colab-badge.svg\" alt=\"Open In Colab\"/></a>"
      ]
    },
    {
      "cell_type": "markdown",
      "source": [
        "NAME - Zakeerhussain.D.K\n",
        "\n",
        "Reg.No - 22-27-09\n",
        "\n",
        "Branch - Data Science"
      ],
      "metadata": {
        "id": "ranTQ8c8X4L1"
      }
    },
    {
      "cell_type": "markdown",
      "source": [
        "Question-1 Given an array A of N numbers (int), WAP which prints the multiplication of the\n",
        "elements of array A with the corresponding elements of the reverse of array A."
      ],
      "metadata": {
        "id": "36ML7kMxu_rt"
      }
    },
    {
      "cell_type": "code",
      "source": [
        "\n",
        "n = int(input())\n",
        "A = [int(i) for i in input().split(\" \")]\n",
        "B = []\n",
        "for k in range(len(A)-1,-1,-1):\n",
        "    B.append(A[k])\n",
        "c=[]\n",
        "for j in range(0,len(A)):\n",
        "    a = A[j]*B[j]\n",
        "    c.append(a)\n",
        "print(*c)"
      ],
      "metadata": {
        "id": "56SuwmV9eZcJ"
      },
      "execution_count": null,
      "outputs": []
    },
    {
      "cell_type": "markdown",
      "source": [
        "Question -2 Given a list of numbers (integers), find second maximum and second minimum in\n",
        "this list."
      ],
      "metadata": {
        "id": "T0zGFRz8vUHD"
      }
    },
    {
      "cell_type": "code",
      "source": [
        "#program to sort the list\n",
        "\n",
        "def sort_the_array(array):\n",
        "    for i in range(len(array)):\n",
        "        for j in range(0, len(array) - i - 1):\n",
        "            if array[j] > array[j + 1]:\n",
        "                temp = array[j]\n",
        "                array[j] = array[j+1]\n",
        "                array[j+1] = temp\n",
        "                \n",
        "#program to find 2nd min and max\n",
        "\n",
        "def second_min_and_max(array):\n",
        "    sorted_array = sort_the_array(array)\n",
        "    if array == []:\n",
        "        print(\"input values in the array\")\n",
        "    else:\n",
        "        print(\"2nd maximum in the array is : {}\".format(array[-2]))\n",
        "        print(\"2nd minimum in the array is : {}\".format(array[1]))       \n",
        "\n",
        "#driver code\n",
        "\n",
        "array = [4,6,2,45,77,8,90,3]\n",
        "second_min_and_max(array)\n"
      ],
      "metadata": {
        "id": "NjT8iMKYeYn-"
      },
      "execution_count": null,
      "outputs": []
    },
    {
      "cell_type": "markdown",
      "source": [
        "Question - 3 Given a list A of numbers (integers), you have to print those numbers which are not\n",
        "multiples of 5."
      ],
      "metadata": {
        "id": "3nhRUwzovrQ4"
      }
    },
    {
      "cell_type": "code",
      "source": [
        "x = input()\n",
        "num = list(map(int, x.split()))\n",
        "l =[]\n",
        "for i in num:  \n",
        "    if i%5 != 0:\n",
        "        l.append(i)\n",
        "print(*l, sep = \" \")"
      ],
      "metadata": {
        "colab": {
          "base_uri": "https://localhost:8080/"
        },
        "id": "hsJG6l5Ad04e",
        "outputId": "f68e3da4-683b-4f0d-ede3-5e7c0e5c9150"
      },
      "execution_count": null,
      "outputs": [
        {
          "output_type": "stream",
          "name": "stdout",
          "text": [
            "1 2 3 4 5 6\n",
            "1 2 3 4 6\n"
          ]
        }
      ]
    },
    {
      "cell_type": "markdown",
      "source": [
        "Question -4 You are given a number A which contains only digits 0’s and 1’s. Your task is to\n",
        "make all digits same by just flipping one digit (i.e. 0 to 1 or 1 to 0 ) only. If it is\n",
        "possible to make all the digits same by just flipping one digit then print ’YES’ else\n",
        "print ’NO’."
      ],
      "metadata": {
        "id": "wp8zV7nrv0pG"
      }
    },
    {
      "cell_type": "code",
      "source": [
        "a = input()\n",
        "k = []\n",
        "for i in range (0,len(a)):\n",
        "    k.append(int(a[i]))\n",
        "    \n",
        "l = len(k)\n",
        "mid = (l-1)//2\n",
        "if (k[mid]==0):\n",
        "    k[mid]=1\n",
        "else:\n",
        "    k[mid] = 0\n",
        "    \n",
        "c = k.count(k[0])\n",
        "if(c==l):\n",
        "    print(\"Yes\",end= \" \" )\n",
        "else:\n",
        "    print(\"No\",end = \" \")"
      ],
      "metadata": {
        "colab": {
          "base_uri": "https://localhost:8080/"
        },
        "id": "yzf_-A2bbUS4",
        "outputId": "dca40b51-cde5-48bb-bd55-ca4f5669136b"
      },
      "execution_count": null,
      "outputs": [
        {
          "output_type": "stream",
          "name": "stdout",
          "text": [
            "101\n",
            "Yes "
          ]
        }
      ]
    },
    {
      "cell_type": "markdown",
      "source": [
        "Question -5 Given an integer number n, you have to print the factorial of this number.\n",
        "\n"
      ],
      "metadata": {
        "id": "6ARjzAoxv9FZ"
      }
    },
    {
      "cell_type": "code",
      "execution_count": null,
      "metadata": {
        "colab": {
          "base_uri": "https://localhost:8080/"
        },
        "id": "nOHRJB_PXx2V",
        "outputId": "c6c3407b-7b37-44b7-9346-769fee61a2d9"
      },
      "outputs": [
        {
          "output_type": "stream",
          "name": "stdout",
          "text": [
            "Enter the positive Number4\n",
            "The factorial of the given number is 24\n"
          ]
        }
      ],
      "source": [
        "\n",
        "# to print a factorial of a number\n",
        "\n",
        "def factorial(n):\n",
        "    \n",
        "    if n <0:\n",
        "        print(\"The number should be positive\")\n",
        "        \n",
        "    elif (n==0 or n==1):\n",
        "        return 1\n",
        "    \n",
        "    else:\n",
        "        return (n*factorial(n-1))\n",
        "    \n",
        "    \n",
        "num = int(input(\"Enter the positive Number\"))\n",
        "\n",
        "result = factorial(num)\n",
        "\n",
        "print(f'The factorial of the given number is {result}')"
      ]
    },
    {
      "cell_type": "markdown",
      "source": [
        "Question - 6 Write a program, which will find all such numbers between m and n (both included)\n",
        "such that each digit of the number is an even number."
      ],
      "metadata": {
        "id": "7_DfZfGIwEyp"
      }
    },
    {
      "cell_type": "code",
      "source": [
        "def even(n,m):\n",
        "    required_array = []\n",
        "    for i in range(n,m):\n",
        "        num_to_string  = str(i)\n",
        "        a = list(num_to_string) \n",
        "        if (int(a[0])%2 == 0) and (int(a[1])%2 == 0) and (int(a[2])%2 == 0) and (int(a[3])%2 == 0):\n",
        "            required_array.append(i)\n",
        "    print(required_array)        \n",
        "\n",
        "    \n",
        "n = int(input(\"enter the starting value : \"))\n",
        "m = int(input(\"enter the end value      : \"))\n",
        "even(n,m)"
      ],
      "metadata": {
        "colab": {
          "base_uri": "https://localhost:8080/"
        },
        "id": "CRq4ZcRxdRpR",
        "outputId": "368785f5-5496-4318-ac04-aa0541504b4a"
      },
      "execution_count": null,
      "outputs": [
        {
          "output_type": "stream",
          "name": "stdout",
          "text": [
            "Enter value of m: 1010\n",
            "Enter value of n: 2020\n",
            "The numbers in given range with all digits even are: \n",
            "[2000, 2002, 2004, 2006, 2008, 2020]\n"
          ]
        }
      ]
    }
  ]
}